{
 "cells": [
  {
   "cell_type": "markdown",
   "metadata": {},
   "source": [
    "# Amirhossein Chelovi"
   ]
  },
  {
   "cell_type": "code",
   "execution_count": 1,
   "metadata": {},
   "outputs": [],
   "source": [
    "import os"
   ]
  },
  {
   "cell_type": "markdown",
   "metadata": {},
   "source": [
    "import file and read"
   ]
  },
  {
   "cell_type": "code",
   "execution_count": 2,
   "metadata": {},
   "outputs": [],
   "source": [
    "words_bank=[]\n",
    "\n",
    "def load_data():\n",
    "    print('TERANSLATOR\\n-----------------------\\n')    \n",
    "    with open('words_bank.txt','r') as f:\n",
    "        big_text = f.read()\n",
    "        words = big_text.split('\\n')\n",
    "\n",
    "        for i in range(0, len(words) ,2):\n",
    "            my_dict = {'english':words[i],'persian':words[i+1]}\n",
    "            words_bank.append(my_dict)"
   ]
  },
  {
   "cell_type": "markdown",
   "metadata": {},
   "source": [
    "English to Persian"
   ]
  },
  {
   "cell_type": "code",
   "execution_count": 3,
   "metadata": {},
   "outputs": [],
   "source": [
    "def en2fa(input_text):\n",
    "    user_words = input_text.split(' ')\n",
    "    output_text = \"\"\n",
    "    for user in user_words:\n",
    "        for word in words_bank:\n",
    "            if word['english'] == user:\n",
    "                output_text += word['persian']\n",
    "                break\n",
    "        else:\n",
    "            output_text += user\n",
    "                \n",
    "    return output_text"
   ]
  },
  {
   "cell_type": "markdown",
   "metadata": {},
   "source": [
    "Persian to English"
   ]
  },
  {
   "cell_type": "code",
   "execution_count": 4,
   "metadata": {},
   "outputs": [],
   "source": [
    "def fa2en(input_text):\n",
    "    user_words = input_text.split(' ')\n",
    "    output_text = \"\"\n",
    "    for user in user_words:\n",
    "        for word in words_bank:\n",
    "            if user == word['persian']:\n",
    "                output_text += word['english']\n",
    "                break\n",
    "        else:\n",
    "            output_text += user\n",
    "\n",
    "    return output_text"
   ]
  },
  {
   "cell_type": "markdown",
   "metadata": {},
   "source": [
    "Display"
   ]
  },
  {
   "cell_type": "code",
   "execution_count": 5,
   "metadata": {},
   "outputs": [],
   "source": [
    "def display(inp, oup):\n",
    "    print(f\"{inp} means '{oup}'\")"
   ]
  },
  {
   "cell_type": "markdown",
   "metadata": {},
   "source": [
    "Main function"
   ]
  },
  {
   "cell_type": "code",
   "execution_count": 14,
   "metadata": {},
   "outputs": [],
   "source": [
    "def main(): \n",
    "    load_data()\n",
    "    print(\"Choose >>>\")\n",
    "    choice = int(input())\n",
    "\n",
    "    if choice == 1:\n",
    "        user_text = input('Write your text: ')\n",
    "        output_text = en2fa(user_text)\n",
    "        display(user_text, output_text)\n",
    "\n",
    "    elif choice == 2:\n",
    "        user_text = input('write your text: ')\n",
    "        output_text = fa2en(user_text)\n",
    "        display(user_text, output_text)\n",
    "\n",
    "    elif choice == 3:\n",
    "        n = input(\"Eneter the word in English: \")\n",
    "        m = input(\"Enter the translation: \")\n",
    "        print(\"sucessfully added!\")\n",
    "        f = open('words_bank.txt','a')\n",
    "        f.write('\\n' + n + '\\n' + m)\n",
    "        f.close()"
   ]
  },
  {
   "cell_type": "markdown",
   "metadata": {},
   "source": [
    "# Welcome to Amir Translator :)\n",
    "\n",
    "1. English to Persian\n",
    "2. Persian to English\n",
    "3. Add new word\n",
    "4. Exit"
   ]
  },
  {
   "cell_type": "code",
   "execution_count": 17,
   "metadata": {},
   "outputs": [
    {
     "name": "stdout",
     "output_type": "stream",
     "text": [
      "TERANSLATOR\n",
      "-----------------------\n",
      "\n",
      "Choose >>>\n",
      "1\n",
      "Write your text: livan\n",
      "livan means 'glass'\n"
     ]
    }
   ],
   "source": [
    "main()"
   ]
  }
 ],
 "metadata": {
  "kernelspec": {
   "display_name": "Python 3",
   "language": "python",
   "name": "python3"
  },
  "language_info": {
   "codemirror_mode": {
    "name": "ipython",
    "version": 3
   },
   "file_extension": ".py",
   "mimetype": "text/x-python",
   "name": "python",
   "nbconvert_exporter": "python",
   "pygments_lexer": "ipython3",
   "version": "3.8.5"
  }
 },
 "nbformat": 4,
 "nbformat_minor": 4
}
